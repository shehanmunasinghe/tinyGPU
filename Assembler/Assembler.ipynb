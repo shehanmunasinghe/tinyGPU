{
 "metadata": {
  "language_info": {
   "codemirror_mode": {
    "name": "ipython",
    "version": 3
   },
   "file_extension": ".py",
   "mimetype": "text/x-python",
   "name": "python",
   "nbconvert_exporter": "python",
   "pygments_lexer": "ipython3",
   "version": "3.6.3-final"
  },
  "orig_nbformat": 2,
  "kernelspec": {
   "name": "python36364bite1f5267602184ac0a6567ae52ada8ca8",
   "display_name": "Python 3.6.3 64-bit"
  }
 },
 "nbformat": 4,
 "nbformat_minor": 2,
 "cells": [
  {
   "source": [
    "# Assembler"
   ],
   "cell_type": "markdown",
   "metadata": {}
  },
  {
   "cell_type": "code",
   "execution_count": 201,
   "metadata": {},
   "outputs": [],
   "source": [
    "from utils import *"
   ]
  },
  {
   "cell_type": "code",
   "execution_count": 203,
   "metadata": {},
   "outputs": [
    {
     "output_type": "stream",
     "name": "stdout",
     "text": [
      "LOADC R0 THRD_ID\nLOAD R5 R0\nLOADI R6 0\nSETP EQ R5 R6\n\nIF_P ELSE1\n    LOADI R5 10\n    ELSE_P ENDIF1\nELSE1: LOADI R5 20\nENDIF1: ENDIF\n\nSTORE R5 R0\n"
     ]
    }
   ],
   "source": [
    "assembly_code = open(\"test.as\", \"r\").read()\n",
    "print(assembly_code)"
   ]
  },
  {
   "cell_type": "code",
   "execution_count": 204,
   "metadata": {},
   "outputs": [
    {
     "output_type": "stream",
     "name": "stdout",
     "text": [
      "{'ELSE1': 7, 'ENDIF1': 8} \n\n['LOADC', 'R0', 'THRD_ID']\n['LOAD', 'R5', 'R0']\n['LOADI', 'R6', '0']\n['SETP', 'EQ', 'R5', 'R6']\n['IF_P', 'ELSE1']\n['LOADI', 'R5', '10']\n['ELSE_P', 'ENDIF1']\n['LOADI', 'R5', '20']\n['ENDIF']\n['STORE', 'R5', 'R0']\n"
     ]
    },
    {
     "output_type": "execute_result",
     "data": {
      "text/plain": [
       "['00100000000000010000000000000000\\n',\n",
       " '00000101000000000000000000000000\\n',\n",
       " '00010110000000000000000000000000\\n',\n",
       " '10110101011000010000000000000000\\n',\n",
       " '11000000000000000000000000000111\\n',\n",
       " '00010101000000000000000000001010\\n',\n",
       " '11010000000000000000000000001000\\n',\n",
       " '00010101000000000000000000010100\\n',\n",
       " '11100000000000000000000000000000\\n',\n",
       " '00110101000000000000000000000000\\n']"
      ]
     },
     "metadata": {},
     "execution_count": 204
    }
   ],
   "source": [
    "assemble(assembly_code)"
   ]
  },
  {
   "cell_type": "code",
   "execution_count": 205,
   "metadata": {},
   "outputs": [
    {
     "output_type": "stream",
     "name": "stdout",
     "text": [
      "00000101101000000000000000000000\n\n00010101000000000000000001100100\n\n00100000000000010000000000000000\n\n00110101101000000000000000000000\n\n01001010000000000000000000000000\n\n01101010000000000000000000000000\n\n01110101101011000000000000000000\n\n10000101101011000000000000000000\n\n10010101101011000000000000000000\n\n10111010110000010000000000000000\n\n11000000000000000000000001111011\n\n11010000000000000000000001111011\n\n11100000000000000000000000000000\n\n"
     ]
    }
   ],
   "source": [
    "print(decode_instruction(['LOAD', 'R5', 'R10']))\n",
    "print(decode_instruction(['LOADI', 'R5', '100']))\n",
    "print(decode_instruction(['LOADC', 'R0', 'THRD_ID']))\n",
    "print(decode_instruction(['STORE', 'R5', 'R10']))\n",
    "\n",
    "print(decode_instruction(['CLEAR', 'R10']))\n",
    "print(decode_instruction(['INC', 'R10']))\n",
    "\n",
    "print(decode_instruction(['ADD', 'R5', 'R10', 'R12']))\n",
    "print(decode_instruction(['MUL', 'R5', 'R10', 'R12']))\n",
    "print(decode_instruction(['MAD', 'R5', 'R10', 'R12']))\n",
    "\n",
    "print(decode_instruction(['SETP', 'EQ', 'R10', 'R12']))\n",
    "\n",
    "print(decode_instruction(['IF_P', '123']))\n",
    "print(decode_instruction(['ELSE_P', '123']))\n",
    "print(decode_instruction(['ENDIF']))\n"
   ]
  },
  {
   "cell_type": "code",
   "execution_count": null,
   "metadata": {},
   "outputs": [],
   "source": []
  },
  {
   "cell_type": "code",
   "execution_count": null,
   "metadata": {},
   "outputs": [],
   "source": []
  },
  {
   "cell_type": "code",
   "execution_count": null,
   "metadata": {},
   "outputs": [],
   "source": []
  },
  {
   "cell_type": "code",
   "execution_count": null,
   "metadata": {},
   "outputs": [],
   "source": []
  },
  {
   "cell_type": "code",
   "execution_count": 31,
   "metadata": {},
   "outputs": [],
   "source": [
    "class InstMemory():\n",
    "    def __init__(self):\n",
    "        #TODO\n",
    "        pass\n",
    "    def loadFromAssembly(self, assembly_code):\n",
    "        #TODO\n",
    "        pass\n",
    "    \n",
    "class DataMemory():\n",
    "    def __init__(self):\n",
    "        # TODO\n",
    "        pass\n",
    "    def loadFromList(self, ls):\n",
    "        # TODO\n",
    "        pass"
   ]
  },
  {
   "cell_type": "code",
   "execution_count": null,
   "metadata": {},
   "outputs": [],
   "source": []
  },
  {
   "source": [
    "# tinyGPU"
   ],
   "cell_type": "markdown",
   "metadata": {}
  },
  {
   "cell_type": "code",
   "execution_count": null,
   "metadata": {},
   "outputs": [],
   "source": [
    "class ALU():\n",
    "    def __init__(self):\n",
    "        self.Z=0\n",
    "        self.Out=0\n",
    "\n",
    "    def aluc(self, aluc_signal, A,B,C=None):\n",
    "        if aluc_signal == ALU_CLEAR:\n",
    "            self.Out = 0\n",
    "            self.Z = 0\n",
    "        elif aluc_signal == ALU_INC:\n",
    "            # TODO\n",
    "            pass\n",
    "        # TODO:Add the rest"
   ]
  },
  {
   "cell_type": "code",
   "execution_count": 37,
   "metadata": {},
   "outputs": [],
   "source": [
    "class IFU():\n",
    "    def __init__(self):\n",
    "        self.PC = 0\n",
    "        self.IR = 0\n",
    "        self.TIR = 0\n",
    "    def incPC(self):\n",
    "        self.PC+=1\n",
    "    def loadFromI(self):\n",
    "        self.PC=self.TIR\n",
    "\n",
    "class Core():\n",
    "    def __init__(self):\n",
    "        self.R = [0 for i in range(16)]\n",
    "        # self.ALU = # TODO\n",
    "        self.mask = 1"
   ]
  },
  {
   "cell_type": "code",
   "execution_count": null,
   "metadata": {},
   "outputs": [],
   "source": [
    "class CU_Microsequencer(): #OR State Machine\n",
    "\n",
    "\n",
    "    #State Fetch\n",
    "\n",
    "    #State Decode\n",
    "\n",
    "    #State Execute\n",
    "    "
   ]
  },
  {
   "cell_type": "code",
   "execution_count": 38,
   "metadata": {},
   "outputs": [],
   "source": [
    "class TinyGPU():\n",
    "    def __init__(self):\n",
    "        self.IFU= IFU()\n",
    "\n",
    "\n",
    "        self.core = [\n",
    "            Core(), Core()\n",
    "        ]\n",
    "\n",
    "\n",
    "    def mask_reset(self):\n",
    "        # TODO\n",
    "        pass\n",
    "    def mask_invert(self):\n",
    "        # TODO\n",
    "        pass"
   ]
  },
  {
   "cell_type": "code",
   "execution_count": 39,
   "metadata": {},
   "outputs": [],
   "source": [
    "tinyGPU = TinyGPU()"
   ]
  },
  {
   "cell_type": "code",
   "execution_count": 42,
   "metadata": {},
   "outputs": [
    {
     "output_type": "execute_result",
     "data": {
      "text/plain": [
       "2"
      ]
     },
     "metadata": {},
     "execution_count": 42
    }
   ],
   "source": [
    "tinyGPU.IFU.incPC()\n",
    "tinyGPU.IFU.PC"
   ]
  },
  {
   "cell_type": "code",
   "execution_count": 41,
   "metadata": {},
   "outputs": [
    {
     "output_type": "execute_result",
     "data": {
      "text/plain": [
       "0"
      ]
     },
     "metadata": {},
     "execution_count": 41
    }
   ],
   "source": [
    "tinyGPU.core[0].R[0]"
   ]
  },
  {
   "cell_type": "code",
   "execution_count": null,
   "metadata": {},
   "outputs": [],
   "source": []
  }
 ]
}