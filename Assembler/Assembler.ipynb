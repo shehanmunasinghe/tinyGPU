{
 "metadata": {
  "language_info": {
   "codemirror_mode": {
    "name": "ipython",
    "version": 3
   },
   "file_extension": ".py",
   "mimetype": "text/x-python",
   "name": "python",
   "nbconvert_exporter": "python",
   "pygments_lexer": "ipython3",
   "version": "3.6.3-final"
  },
  "orig_nbformat": 2,
  "kernelspec": {
   "name": "python36364bite1f5267602184ac0a6567ae52ada8ca8",
   "display_name": "Python 3.6.3 64-bit"
  }
 },
 "nbformat": 4,
 "nbformat_minor": 2,
 "cells": [
  {
   "source": [
    "# Assembler"
   ],
   "cell_type": "markdown",
   "metadata": {}
  },
  {
   "cell_type": "code",
   "execution_count": 2,
   "metadata": {},
   "outputs": [],
   "source": [
    "from assembler_utils import *"
   ]
  },
  {
   "cell_type": "code",
   "execution_count": 3,
   "metadata": {},
   "outputs": [],
   "source": [
    "def getMachineProgram(f_in, f_out=None):\n",
    "    assembly_code = open(f_in, \"r\").read()\n",
    "    assembly_code =  preprocess_assembly_code(assembly_code)\n",
    "    machine_code = assemble(assembly_code)\n",
    "\n",
    "    if f_out :\n",
    "        outputfile = open(f_out, \"w\")\n",
    "        outputfile.write(''.join(machine_code))\n",
    "        outputfile.close()\n",
    "    return "
   ]
  },
  {
   "cell_type": "code",
   "execution_count": 4,
   "metadata": {},
   "outputs": [
    {
     "output_type": "stream",
     "name": "stdout",
     "text": [
      "['LOADI', 'R4', '2']\n['LOADI', 'R5', '3']\n['LOADI', 'R6', '2']\n['LOADI', 'R7', '0']\n['LOADI', 'R8', '6']\n['LOADI', 'R9', '12']\n['CLEAR', 'R0']\n['NOP']\n['LOADC', 'R1', 'THRD_ID']\n['ADD', 'R1', 'R1', 'R0']\n['CLEAR', 'R3']\n['NOP']\n['SETP', 'LT', 'R1', 'R4']\n['IF_P', 33]\n['CLEAR', 'R10']\n['CLEAR', 'R2']\n['MUL', 'R15', 'R5', 'R1']\n['ADD', 'R15', 'R15', 'R2']\n['ADD', 'R15', 'R15', 'R7']\n['LOAD', 'R11', 'R15']\n['MUL', 'R15', 'R6', 'R2']\n['ADD', 'R15', 'R15', 'R3']\n['ADD', 'R15', 'R15', 'R8']\n['LOAD', 'R12', 'R15']\n['MAD', 'R10', 'R11', 'R12']\n['MUL', 'R15', 'R6', 'R1']\n['ADD', 'R15', 'R15', 'R3']\n['ADD', 'R15', 'R15', 'R9']\n['STORE', 'R10', 'R15']\n['INC', 'R2']\n['SETP', 'LT', 'R2', 'R5']\n['WHILE_P', 16]\n['ENDWHILE']\n['ENDIF']\n['INC', 'R3']\n['SETP', 'LT', 'R3', 'R6']\n['WHILE_P', 11]\n['ENDWHILE']\n['LOADI', 'R13', '4']\n['ADD', 'R0', 'R0', 'R13']\n['SETP', 'LT', 'R0', 'R4']\n['WHILE_P', 7]\n['ENDWHILE']\n"
     ]
    }
   ],
   "source": [
    "getMachineProgram('../Simulator/sample/7-mat-mul/prog.txt', \"prog_bin.txt\")"
   ]
  },
  {
   "cell_type": "code",
   "execution_count": null,
   "metadata": {},
   "outputs": [],
   "source": []
  },
  {
   "cell_type": "code",
   "execution_count": null,
   "metadata": {},
   "outputs": [],
   "source": []
  }
 ]
}