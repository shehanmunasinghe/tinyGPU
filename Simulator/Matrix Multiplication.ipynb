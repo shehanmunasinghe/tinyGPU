{
 "metadata": {
  "language_info": {
   "codemirror_mode": {
    "name": "ipython",
    "version": 3
   },
   "file_extension": ".py",
   "mimetype": "text/x-python",
   "name": "python",
   "nbconvert_exporter": "python",
   "pygments_lexer": "ipython3",
   "version": "3.7.7-final"
  },
  "orig_nbformat": 2,
  "kernelspec": {
   "name": "Python 3.7.7 64-bit ('python37_cv': conda)",
   "display_name": "Python 3.7.7 64-bit ('python37_cv': conda)",
   "metadata": {
    "interpreter": {
     "hash": "00a8cc73bb9e6ed04ade57149cdaf42a88cd614fdde46ff037cc4e9070fb05d4"
    }
   }
  }
 },
 "nbformat": 4,
 "nbformat_minor": 2,
 "cells": [
  {
   "cell_type": "code",
   "execution_count": 7,
   "metadata": {},
   "outputs": [],
   "source": [
    "import numpy as np\n",
    "np.random.seed(10)"
   ]
  },
  {
   "cell_type": "code",
   "execution_count": 11,
   "metadata": {},
   "outputs": [],
   "source": [
    "L=2\n",
    "M=3\n",
    "N=2\n",
    "\n",
    "A=np.random.randint(low=0,high=15,size=(L,M))\n",
    "B=np.random.randint(low=0,high=15,size=(M,N))\n",
    "C=np.zeros((L,N),dtype=int)"
   ]
  },
  {
   "cell_type": "code",
   "execution_count": 15,
   "metadata": {},
   "outputs": [
    {
     "output_type": "execute_result",
     "data": {
      "text/plain": [
       "(array([[ 6,  4,  3],\n",
       "        [ 0,  4, 11]]),\n",
       " array([[ 6,  8],\n",
       "        [11, 10],\n",
       "        [14,  1]]),\n",
       " array([[0, 0],\n",
       "        [0, 0]]))"
      ]
     },
     "metadata": {},
     "execution_count": 15
    }
   ],
   "source": [
    "A,B,C"
   ]
  },
  {
   "cell_type": "code",
   "execution_count": 14,
   "metadata": {},
   "outputs": [
    {
     "output_type": "execute_result",
     "data": {
      "text/plain": [
       "array([[122,  91],\n",
       "       [198,  51]])"
      ]
     },
     "metadata": {},
     "execution_count": 14
    }
   ],
   "source": [
    "np.matmul(A,B)"
   ]
  },
  {
   "cell_type": "code",
   "execution_count": 33,
   "metadata": {},
   "outputs": [],
   "source": [
    "def arrayToDataMemory(A):\n",
    "    a_=A.flatten()\n",
    "    return '\\n'.join(map(str,a_.tolist()))\n",
    "\n",
    "def arraysToDataMemory(arrays):\n",
    "    out=''\n",
    "    for A in arrays:\n",
    "        x,y = A.shape\n",
    "        a_=A.flatten()\n",
    "        out+='\\n'.join(map(str,a_.tolist()))+'\\n'\n",
    "\n",
    "    return out\n"
   ]
  },
  {
   "cell_type": "code",
   "execution_count": 35,
   "metadata": {},
   "outputs": [
    {
     "output_type": "stream",
     "name": "stdout",
     "text": [
      "6\n4\n3\n0\n4\n11\n6\n8\n11\n10\n14\n1\n0\n0\n0\n0\n\n"
     ]
    }
   ],
   "source": [
    "print(arraysToDataMemory([A,B,C]))"
   ]
  },
  {
   "cell_type": "code",
   "execution_count": 23,
   "metadata": {},
   "outputs": [
    {
     "output_type": "execute_result",
     "data": {
      "text/plain": [
       "array([[ 6,  4,  3],\n",
       "       [ 0,  4, 11]])"
      ]
     },
     "metadata": {},
     "execution_count": 23
    }
   ],
   "source": [
    "A"
   ]
  },
  {
   "cell_type": "code",
   "execution_count": 26,
   "metadata": {},
   "outputs": [
    {
     "output_type": "execute_result",
     "data": {
      "text/plain": [
       "'6\\n4\\n3\\n0\\n4\\n11'"
      ]
     },
     "metadata": {},
     "execution_count": 26
    }
   ],
   "source": []
  },
  {
   "cell_type": "code",
   "execution_count": 27,
   "metadata": {},
   "outputs": [],
   "source": [
    "def arrayToDataMemory(A):\n",
    "    a_=A.flatten()\n",
    "    return '\\n'.join(map(str,a_.tolist()))"
   ]
  },
  {
   "cell_type": "code",
   "execution_count": 28,
   "metadata": {},
   "outputs": [
    {
     "output_type": "execute_result",
     "data": {
      "text/plain": [
       "'6\\n8\\n11\\n10\\n14\\n1'"
      ]
     },
     "metadata": {},
     "execution_count": 28
    }
   ],
   "source": [
    "arrayToDataMemory(B)"
   ]
  },
  {
   "cell_type": "code",
   "execution_count": null,
   "metadata": {},
   "outputs": [],
   "source": []
  }
 ]
}