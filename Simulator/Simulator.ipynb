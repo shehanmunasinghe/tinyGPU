{
 "metadata": {
  "language_info": {
   "codemirror_mode": {
    "name": "ipython",
    "version": 3
   },
   "file_extension": ".py",
   "mimetype": "text/x-python",
   "name": "python",
   "nbconvert_exporter": "python",
   "pygments_lexer": "ipython3",
   "version": "3.6.3-final"
  },
  "orig_nbformat": 2,
  "kernelspec": {
   "name": "python36364bite1f5267602184ac0a6567ae52ada8ca8",
   "display_name": "Python 3.6.3 64-bit"
  }
 },
 "nbformat": 4,
 "nbformat_minor": 2,
 "cells": [
  {
   "source": [
    "# Assembler"
   ],
   "cell_type": "markdown",
   "metadata": {}
  },
  {
   "cell_type": "code",
   "execution_count": 1,
   "metadata": {},
   "outputs": [],
   "source": [
    "def preprocess_assembly_code(assembly_code):\n",
    "    assembly_code = assembly_code.splitlines()\n",
    "\n",
    "    line_no=0\n",
    "    line_alias={}\n",
    "\n",
    "    #Line alias\n",
    "    for line in assembly_code:\n",
    "        s = line.strip().split(' ')\n",
    "        if not s[0]:\n",
    "            continue\n",
    "        if s[0][-1]==':':\n",
    "            line_alias[s[0][0:-1]]=line_no\n",
    "\n",
    "        line_no+=1\n",
    "    # print(\"line_alias:   \",line_alias, '\\n')\n",
    "\n",
    "    #Preprocessing (Removing alias)\n",
    "    preprocessd_assembly_code = []\n",
    "    for line in assembly_code:\n",
    "        s = line.strip().split(' ')\n",
    "        if not s[0]:\n",
    "            continue\n",
    "        if s[0][-1]==':':\n",
    "            s=s[1:]\n",
    "        # print(s)        \n",
    "\n",
    "        inst = s[0]\n",
    "        if inst == 'IF_P' or inst == 'ELSE_P':     #IF_P or ELSE_P\n",
    "            out= [inst , line_alias[s[1]] ]\n",
    "        else:\n",
    "            out = s\n",
    "\n",
    "        preprocessd_assembly_code.append(out)\n",
    "\n",
    "    return preprocessd_assembly_code\n",
    "\n",
    "# preprocess_assembly_code(assembly_code)"
   ]
  },
  {
   "cell_type": "code",
   "execution_count": 2,
   "metadata": {},
   "outputs": [],
   "source": [
    "class SPCore():\n",
    "    def __init__(self, THRD_ID):\n",
    "        # self.R = [0 for i in range(16)]\n",
    "        self.R={\n",
    "            'R0'    :0,'R1'    :0,'R2'    :0,'R3'    :0,'R4'    :0,'R5'    :0,'R6'    :0,'R7'    :0,                'R8'    :0,'R9'    :0,'R10'    :0,'R11'    :0,'R12'    :0,'R13'    :0,'R14'    :0,\n",
    "            'R15'    :0\n",
    "        }\n",
    "        self.THRD_ID = THRD_ID\n",
    "        self.P = True\n",
    "        self.P_stack = [True]\n",
    "\n",
    "    def __str__(self):\n",
    "        return (\n",
    "            \"SPCore:\\t\"+str(self.THRD_ID)+'\\n'+\n",
    "            \"P\\t\"+str(self.P)+'\\n'+\n",
    "            \"P_stack\\t\"+str(self.P_stack)+'\\n'+\n",
    "            str(self.R)+'\\n'\n",
    "        )\n",
    "\n",
    "\n",
    "    def pushMask(self):\n",
    "        self.P_stack.append(self.P)\n",
    "    def popMask(self):\n",
    "        self.P_stack.pop()\n",
    "    def curMask(self):\n",
    "        return self.P_stack[-1]\n",
    "    def invMask(self):\n",
    "        self.P_stack[-1] = not self.P_stack[-1]\n",
    "\n",
    "\n",
    "##############################\n",
    "def all_p_false():\n",
    "    for core in cores:\n",
    "        if core.curMask()==True:\n",
    "            return False\n",
    "    return True\n",
    "\n",
    "def all_p_true():\n",
    "    for core in cores:\n",
    "        if core.curMask()==False:\n",
    "            return False\n",
    "    return True\n",
    "\n",
    "def valid(cores):\n",
    "    return [core for core in cores if core.curMask()==True ]\n",
    "\n",
    "def pushStack():\n",
    "    for core in cores:\n",
    "        core.pushMask()\n",
    "\n",
    "def compStack():\n",
    "    for core in cores:\n",
    "        core.invMask()\n",
    "\n",
    "def popStack():\n",
    "    for core in cores:\n",
    "        core.popMask()    "
   ]
  },
  {
   "cell_type": "code",
   "execution_count": 4,
   "metadata": {},
   "outputs": [],
   "source": [
    "class Scheduler():\n",
    "    def __init__(self):\n",
    "        self.assembly_code = open(\"test.as\", \"r\").read()\n",
    "        self.assembly_code = preprocess_assembly_code(self.assembly_code)\n",
    "        print(self.assembly_code, '\\n')\n",
    "        # print(len(self.assembly_code), '\\n')\n",
    "        self.PC = 0\n",
    "\n",
    "    def runProgram(self):        \n",
    "        while self.PC <len(self.assembly_code):\n",
    "            self.execute(self.assembly_code[self.PC])\n",
    "            print('PC',self.PC)\n",
    "            print(cores[0])\n",
    "        print('\\n____Finished___')\n",
    "\n",
    "    def execute(self, s):\n",
    "        # print(s)\n",
    "        opcode = s[0]\n",
    "        print(s)\n",
    "        print('valid',len(valid(cores)))\n",
    "\n",
    "        if opcode == 'LOAD':\n",
    "            x=s[1]\n",
    "            y=s[2]\n",
    "            # self.R[x]=DataMem[self.R[y]]\n",
    "            for core in valid(cores):\n",
    "                core.R[x]=DataMem[core.R[y]] #TODO check mask\n",
    "        elif opcode == 'LOADI':\n",
    "            x=s[1]\n",
    "            I=int(s[2])\n",
    "            # self.R[x]=I\n",
    "            for core in valid(cores):\n",
    "                core.R[x]=I\n",
    "        elif opcode == 'LOADC':\n",
    "            x=s[1]\n",
    "            c=s[2]\n",
    "            if c=='THRD_ID': #TODO:add rest\n",
    "                # self.R[x]=self.THRD_ID\n",
    "                for core in valid(cores):\n",
    "                    core.R[x]=core.THRD_ID\n",
    "        elif opcode == 'STORE':\n",
    "            x=s[1]\n",
    "            y=s[2]\n",
    "            # DataMem[self.R[y]] = self.R[x]\n",
    "            for core in valid(cores):\n",
    "                DataMem[core.R[y]] = core.R[x]\n",
    "        elif opcode == 'SETP':\n",
    "            op = s[1]\n",
    "            x = s[2] \n",
    "            y = s[3]\n",
    "            if op=='EQ': #TODO: Add rest\n",
    "                for core in valid(cores):\n",
    "                    core.P = (core.R[x]==core.R[y])\n",
    "\n",
    "        elif opcode == 'IF_P':\n",
    "            L = int(s[1])\n",
    "            pushStack()\n",
    "            print(\"all_p_false\",all_p_false())\n",
    "            if all_p_false():\n",
    "                self.PC = L\n",
    "                return\n",
    "\n",
    "\n",
    "        elif opcode == 'ELSE_P':\n",
    "            L = int(s[1])\n",
    "            compStack()\n",
    "            if all_p_true():\n",
    "                self.PC = L\n",
    "                return\n",
    "\n",
    "        elif opcode == 'ENDIF':\n",
    "            popStack()\n",
    "\n",
    "        else:\n",
    "            raise Exception(\"Unknown Instruction\")\n",
    "\n",
    "\n",
    "        self.PC+=1\n",
    "        return"
   ]
  },
  {
   "cell_type": "code",
   "execution_count": 5,
   "metadata": {},
   "outputs": [
    {
     "output_type": "stream",
     "name": "stdout",
     "text": [
      "[['LOADC', 'R0', 'THRD_ID'], ['LOAD', 'R5', 'R0'], ['LOADI', 'R6', '5'], ['SETP', 'EQ', 'R5', 'R6'], ['IF_P', 7], ['LOADI', 'R5', '10'], ['ELSE_P', 8], ['LOADI', 'R5', '20'], ['ENDIF'], ['STORE', 'R5', 'R0']] \n\n['LOADC', 'R0', 'THRD_ID']\nvalid 4\nPC 1\nSPCore:\t0\nP\tTrue\nP_stack\t[True]\n{'R0': 0, 'R1': 0, 'R2': 0, 'R3': 0, 'R4': 0, 'R5': 0, 'R6': 0, 'R7': 0, 'R8': 0, 'R9': 0, 'R10': 0, 'R11': 0, 'R12': 0, 'R13': 0, 'R14': 0, 'R15': 0}\n\n['LOAD', 'R5', 'R0']\nvalid 4\nPC 2\nSPCore:\t0\nP\tTrue\nP_stack\t[True]\n{'R0': 0, 'R1': 0, 'R2': 0, 'R3': 0, 'R4': 0, 'R5': 5, 'R6': 0, 'R7': 0, 'R8': 0, 'R9': 0, 'R10': 0, 'R11': 0, 'R12': 0, 'R13': 0, 'R14': 0, 'R15': 0}\n\n['LOADI', 'R6', '5']\nvalid 4\nPC 3\nSPCore:\t0\nP\tTrue\nP_stack\t[True]\n{'R0': 0, 'R1': 0, 'R2': 0, 'R3': 0, 'R4': 0, 'R5': 5, 'R6': 5, 'R7': 0, 'R8': 0, 'R9': 0, 'R10': 0, 'R11': 0, 'R12': 0, 'R13': 0, 'R14': 0, 'R15': 0}\n\n['SETP', 'EQ', 'R5', 'R6']\nvalid 4\nPC 4\nSPCore:\t0\nP\tTrue\nP_stack\t[True]\n{'R0': 0, 'R1': 0, 'R2': 0, 'R3': 0, 'R4': 0, 'R5': 5, 'R6': 5, 'R7': 0, 'R8': 0, 'R9': 0, 'R10': 0, 'R11': 0, 'R12': 0, 'R13': 0, 'R14': 0, 'R15': 0}\n\n['IF_P', 7]\nvalid 4\nall_p_false False\nPC 5\nSPCore:\t0\nP\tTrue\nP_stack\t[True, True]\n{'R0': 0, 'R1': 0, 'R2': 0, 'R3': 0, 'R4': 0, 'R5': 5, 'R6': 5, 'R7': 0, 'R8': 0, 'R9': 0, 'R10': 0, 'R11': 0, 'R12': 0, 'R13': 0, 'R14': 0, 'R15': 0}\n\n['LOADI', 'R5', '10']\nvalid 2\nPC 6\nSPCore:\t0\nP\tTrue\nP_stack\t[True, True]\n{'R0': 0, 'R1': 0, 'R2': 0, 'R3': 0, 'R4': 0, 'R5': 10, 'R6': 5, 'R7': 0, 'R8': 0, 'R9': 0, 'R10': 0, 'R11': 0, 'R12': 0, 'R13': 0, 'R14': 0, 'R15': 0}\n\n['ELSE_P', 8]\nvalid 2\nPC 7\nSPCore:\t0\nP\tTrue\nP_stack\t[True, False]\n{'R0': 0, 'R1': 0, 'R2': 0, 'R3': 0, 'R4': 0, 'R5': 10, 'R6': 5, 'R7': 0, 'R8': 0, 'R9': 0, 'R10': 0, 'R11': 0, 'R12': 0, 'R13': 0, 'R14': 0, 'R15': 0}\n\n['LOADI', 'R5', '20']\nvalid 2\nPC 8\nSPCore:\t0\nP\tTrue\nP_stack\t[True, False]\n{'R0': 0, 'R1': 0, 'R2': 0, 'R3': 0, 'R4': 0, 'R5': 10, 'R6': 5, 'R7': 0, 'R8': 0, 'R9': 0, 'R10': 0, 'R11': 0, 'R12': 0, 'R13': 0, 'R14': 0, 'R15': 0}\n\n['ENDIF']\nvalid 2\nPC 9\nSPCore:\t0\nP\tTrue\nP_stack\t[True]\n{'R0': 0, 'R1': 0, 'R2': 0, 'R3': 0, 'R4': 0, 'R5': 10, 'R6': 5, 'R7': 0, 'R8': 0, 'R9': 0, 'R10': 0, 'R11': 0, 'R12': 0, 'R13': 0, 'R14': 0, 'R15': 0}\n\n['STORE', 'R5', 'R0']\nvalid 4\nPC 10\nSPCore:\t0\nP\tTrue\nP_stack\t[True]\n{'R0': 0, 'R1': 0, 'R2': 0, 'R3': 0, 'R4': 0, 'R5': 10, 'R6': 5, 'R7': 0, 'R8': 0, 'R9': 0, 'R10': 0, 'R11': 0, 'R12': 0, 'R13': 0, 'R14': 0, 'R15': 0}\n\n\n____Finished___\n"
     ]
    }
   ],
   "source": [
    "cores = [\n",
    "    SPCore(0), SPCore(1), SPCore(2), SPCore(3)\n",
    "]\n",
    "\n",
    "gpu = Scheduler()\n",
    "\n",
    "DataMem = [5,1,5,1]\n",
    "gpu.runProgram()"
   ]
  },
  {
   "cell_type": "code",
   "execution_count": 6,
   "metadata": {},
   "outputs": [
    {
     "output_type": "execute_result",
     "data": {
      "text/plain": [
       "[10, 20, 10, 20]"
      ]
     },
     "metadata": {},
     "execution_count": 6
    }
   ],
   "source": [
    "DataMem"
   ]
  },
  {
   "source": [
    "# tinyGPU"
   ],
   "cell_type": "markdown",
   "metadata": {}
  },
  {
   "cell_type": "code",
   "execution_count": null,
   "metadata": {},
   "outputs": [],
   "source": [
    "# class ALU():\n",
    "#     def __init__(self):\n",
    "#         self.Z=0\n",
    "#         self.Out=0\n",
    "\n",
    "#     def aluc(self, aluc_signal, A,B,C=None):\n",
    "#         if aluc_signal == ALU_CLEAR:\n",
    "#             self.Out = 0\n",
    "#             self.Z = 0\n",
    "#         elif aluc_signal == ALU_INC:\n",
    "#             # TODO\n",
    "#             pass\n",
    "#         # TODO:Add the rest"
   ]
  },
  {
   "cell_type": "code",
   "execution_count": 37,
   "metadata": {},
   "outputs": [],
   "source": [
    "# class IFU():\n",
    "#     def __init__(self):\n",
    "#         self.PC = 0\n",
    "#         self.IR = 0\n",
    "#         self.TIR = 0\n",
    "#     def incPC(self):\n",
    "#         self.PC+=1\n",
    "#     def loadFromI(self):\n",
    "#         self.PC=self.TIR"
   ]
  },
  {
   "cell_type": "code",
   "execution_count": null,
   "metadata": {},
   "outputs": [],
   "source": [
    "# class CU_Microsequencer(): #OR State Machine\n",
    "\n",
    "\n",
    "#     #State Fetch\n",
    "\n",
    "#     #State Decode\n",
    "\n",
    "#     #State Execute\n",
    "    "
   ]
  },
  {
   "cell_type": "code",
   "execution_count": 38,
   "metadata": {},
   "outputs": [],
   "source": [
    "# class TinyGPU():\n",
    "#     def __init__(self):\n",
    "#         self.IFU= IFU()\n",
    "\n",
    "\n",
    "#         self.core = [\n",
    "#             Core(), Core()\n",
    "#         ]\n",
    "\n",
    "\n",
    "#     def mask_reset(self):\n",
    "#         # TODO\n",
    "#         pass\n",
    "#     def mask_invert(self):\n",
    "#         # TODO\n",
    "#         pass"
   ]
  },
  {
   "cell_type": "code",
   "execution_count": 39,
   "metadata": {},
   "outputs": [],
   "source": [
    "tinyGPU = TinyGPU()"
   ]
  },
  {
   "cell_type": "code",
   "execution_count": 42,
   "metadata": {},
   "outputs": [
    {
     "output_type": "execute_result",
     "data": {
      "text/plain": [
       "2"
      ]
     },
     "metadata": {},
     "execution_count": 42
    }
   ],
   "source": [
    "tinyGPU.IFU.incPC()\n",
    "tinyGPU.IFU.PC"
   ]
  },
  {
   "cell_type": "code",
   "execution_count": 41,
   "metadata": {},
   "outputs": [
    {
     "output_type": "execute_result",
     "data": {
      "text/plain": [
       "0"
      ]
     },
     "metadata": {},
     "execution_count": 41
    }
   ],
   "source": [
    "tinyGPU.core[0].R[0]"
   ]
  },
  {
   "cell_type": "code",
   "execution_count": null,
   "metadata": {},
   "outputs": [],
   "source": []
  },
  {
   "cell_type": "code",
   "execution_count": 31,
   "metadata": {},
   "outputs": [],
   "source": [
    "# class InstMemory():\n",
    "#     def __init__(self):\n",
    "#         #TODO\n",
    "#         pass\n",
    "#     def loadFromAssembly(self, assembly_code):\n",
    "#         #TODO\n",
    "#         pass\n",
    "    \n",
    "# class DataMemory():\n",
    "#     def __init__(self):\n",
    "#         # TODO\n",
    "#         pass\n",
    "#     def loadFromList(self, ls):\n",
    "#         # TODO\n",
    "#         pass"
   ]
  }
 ]
}